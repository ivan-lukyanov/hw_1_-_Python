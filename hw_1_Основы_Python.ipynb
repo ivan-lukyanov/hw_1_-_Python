{
 "cells": [
  {
   "cell_type": "markdown",
   "metadata": {},
   "source": [
    "### Задание 1\n",
    "Даны 2 переменных, в которых хранятся строки произвольной длины: phrase_1 и phrase_2.\n",
    "Напишите код, который проверяет какая из этих строк длиннее."
   ]
  },
  {
   "cell_type": "code",
   "execution_count": 4,
   "metadata": {},
   "outputs": [
    {
     "name": "stdout",
     "output_type": "stream",
     "text": [
      "Результат: Фраза 1 длиннее фразы 2\n"
     ]
    }
   ],
   "source": [
    "phrase_1 = 'Насколько проще было бы писать программы, если бы не заказчики'\n",
    "phrase_2 = '640Кб должно хватить для любых задач. Билл Гейтс (по легенде)'\n",
    "if len(phrase_1) > len(phrase_2):\n",
    "    print(\"Результат: Фраза 1 длиннее фразы 2\")\n",
    "if len(phrase_1) < len(phrase_2):\n",
    "    print(\"Результат: Фраза 2 длиннее фразы 1\")\n",
    "if len(phrase_1) == len(phrase_2):\n",
    "    print(\"Результат: Фразы равной длины\")"
   ]
  },
  {
   "cell_type": "markdown",
   "metadata": {},
   "source": [
    "### Задание 2\n",
    "Дана переменная, в которой хранится четырехзначное число (год). Необходимо написать программу, которая выведет, является ли данный год високосным или обычным."
   ]
  },
  {
   "cell_type": "code",
   "execution_count": 4,
   "metadata": {},
   "outputs": [
    {
     "name": "stdout",
     "output_type": "stream",
     "text": [
      "Результат: Високосный год\n"
     ]
    }
   ],
   "source": [
    "year = 2000\n",
    "if (year % 4 == 0) and (year % 100 != 0) or (year % 400 == 0):\n",
    "    print('Результат: Високосный год')\n",
    "else:\n",
    "    print('Результат: Обычный год')"
   ]
  },
  {
   "cell_type": "markdown",
   "metadata": {},
   "source": [
    "### Задание 3\n",
    "Необходимо написать программу, которая будет запрашивать у пользователя месяц и дату рождения и выводить соответствующий знак зодиака."
   ]
  },
  {
   "cell_type": "code",
   "execution_count": 172,
   "metadata": {},
   "outputs": [
    {
     "name": "stdout",
     "output_type": "stream",
     "text": [
      "Ваш знак зодиака: Дева\n"
     ]
    }
   ],
   "source": [
    "month = 8\n",
    "date = 24\n",
    "if (month == 12 and 22 <= date <= 31) or (month == 1 and 1 <= date <= 19):\n",
    "    print('Ваш знак зодиака: Козерог')\n",
    "elif (month == 1 and 20 <= date <= 31) or (month == 2 and 1 <= date <= 19):\n",
    "    print('Ваш знак зодиака: Водолей')\n",
    "elif (month == 2 and 20 <= date <= 28) or (month == 3 and 1 <= date <= 21):\n",
    "    print('Ваш знак зодиака: Рыбы')\n",
    "elif (month == 3 and 23 <= date <= 31) or (month == 4 and 1 <= date <= 21):\n",
    "    print('Ваш знак зодиака: Овен')\n",
    "elif (month == 4 and 22 <= date <= 30) or (month == 5 and 1 <= date <= 21):\n",
    "    print('Ваш знак зодиака: Телец')\n",
    "elif (month == 5 and 22 <= date <= 31) or (month == 6 and 1 <= date <= 21):\n",
    "    print('Ваш знак зодиака: Близнецы')\n",
    "elif (month == 6 and 22 <= date <= 30) or (month == 7 and 1 <= date <= 21):\n",
    "    print('Ваш знак зодиака: Рак')\n",
    "elif (month == 7 and 22 <= date <= 31) or (month == 8 and 1 <= date <= 21):\n",
    "    print('Ваш знак зодиака: Лев')\n",
    "elif (month == 8 and 22 <= date <= 31) or (month == 9 and 1 <= date <= 21):\n",
    "    print('Ваш знак зодиака: Дева')\n",
    "elif (month == 9 and 22 <= date <= 30) or (month == 10 and 1 <= date <= 21):\n",
    "    print('Ваш знак зодиака: Весы')\n",
    "elif (month == 10 and 22 <= date <= 31) or (month == 11 and 1 <= date <= 20):\n",
    "    print('Ваш знак зодиака: Скорпион')\n",
    "elif (month == 11 and 21 <= date <= 31) or (month == 12 and 1 <= date <= 21):\n",
    "    print('Ваш знак зодиака: Стрелец')\n",
    "else:\n",
    "    print('Такой даты в традиционном календаре нет')"
   ]
  },
  {
   "cell_type": "markdown",
   "metadata": {},
   "source": [
    "### Задание 4\n",
    "Вам нужно написать программу для подбора упаковок по размерам товара.  \n",
    "Размеры (ширина, длина, высота) хранятся в переменных (в сантиметрах):\n",
    "\n",
    "*Используйте следующие правила:*\n",
    "\n",
    "- если каждое из трех измерений менее 15 сантиметров, то выведите на экран \"Коробка №1\";\n",
    "- если хотя бы одно из измерений больше 15 сантиметров, но менее 50 сантиметров, то выводите \"Коробка №2\";\n",
    "- если длина товара больше 2 метров, то выводите \"Упаковка для лыж\";\n",
    "- во всех остальных случаях выводите \"Стандартная коробка №3\"."
   ]
  },
  {
   "cell_type": "code",
   "execution_count": 212,
   "metadata": {},
   "outputs": [
    {
     "name": "stdout",
     "output_type": "stream",
     "text": [
      "Упаковка для лыж\n"
     ]
    }
   ],
   "source": [
    "width = 14\n",
    "length = 201\n",
    "height = 14\n",
    "if (length > 200):\n",
    "    print('Упаковка для лыж')\n",
    "elif (width < 15 and length < 15 and height < 15):\n",
    "    print('Коробка №1')\n",
    "elif (15 <= width < 50 or 15 <= length < 50 or 15 <= height < 50):\n",
    "    print('Коробка №2')\n",
    "else:\n",
    "    print('Стандартная коробка №3')\n",
    "    "
   ]
  }
 ],
 "metadata": {
  "kernelspec": {
   "display_name": "Python 3",
   "language": "python",
   "name": "python3"
  },
  "language_info": {
   "codemirror_mode": {
    "name": "ipython",
    "version": 3
   },
   "file_extension": ".py",
   "mimetype": "text/x-python",
   "name": "python",
   "nbconvert_exporter": "python",
   "pygments_lexer": "ipython3",
   "version": "3.8.5"
  }
 },
 "nbformat": 4,
 "nbformat_minor": 4
}
